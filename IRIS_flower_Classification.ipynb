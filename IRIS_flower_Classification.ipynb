{
  "nbformat": 4,
  "nbformat_minor": 0,
  "metadata": {
    "colab": {
      "private_outputs": true,
      "provenance": []
    },
    "kernelspec": {
      "name": "python3",
      "display_name": "Python 3"
    },
    "language_info": {
      "name": "python"
    }
  },
  "cells": [
    {
      "cell_type": "markdown",
      "source": [
        "## **CODSOFT** **INTERNSHIP**"
      ],
      "metadata": {
        "id": "fba6Ne9zhj3a"
      }
    },
    {
      "cell_type": "markdown",
      "source": [
        "TASK 3.IRIS FLOWER CLASSIFICATION"
      ],
      "metadata": {
        "id": "mo-rKMaSh7GO"
      }
    },
    {
      "cell_type": "code",
      "execution_count": null,
      "metadata": {
        "id": "TTy-lTcDlff2"
      },
      "outputs": [],
      "source": [
        "import numpy as np\n",
        "import pandas as pd\n",
        "import matplotlib.pyplot as plt\n",
        "import seaborn as sns\n",
        "import plotly.express as px"
      ]
    },
    {
      "cell_type": "code",
      "source": [
        "from google.colab import files\n",
        "uploaded = files.upload()"
      ],
      "metadata": {
        "id": "9BupF06AlmTH"
      },
      "execution_count": null,
      "outputs": []
    },
    {
      "cell_type": "code",
      "source": [
        "iris_data = pd.read_csv('IRIS.csv')"
      ],
      "metadata": {
        "id": "s8GP12yOmFYn"
      },
      "execution_count": null,
      "outputs": []
    },
    {
      "cell_type": "code",
      "source": [
        "#linking data set into collab\n",
        "import io\n",
        "iris= pd.read_csv((io.BytesIO(uploaded['IRIS.csv'])))"
      ],
      "metadata": {
        "id": "2ii66Z3OmWMX"
      },
      "execution_count": null,
      "outputs": []
    },
    {
      "cell_type": "code",
      "source": [
        "#data set first look\n",
        "iris.head(10)"
      ],
      "metadata": {
        "id": "vY7VXug0mqT2"
      },
      "execution_count": null,
      "outputs": []
    },
    {
      "cell_type": "code",
      "source": [
        "iris.shape"
      ],
      "metadata": {
        "id": "BJyiHcixokYN"
      },
      "execution_count": null,
      "outputs": []
    },
    {
      "cell_type": "code",
      "source": [
        "iris.isnull().sum()"
      ],
      "metadata": {
        "id": "nyEAWPVzoovm"
      },
      "execution_count": null,
      "outputs": []
    },
    {
      "cell_type": "code",
      "source": [
        "iris.describe()"
      ],
      "metadata": {
        "id": "Yp8BtiHGo_Lu"
      },
      "execution_count": null,
      "outputs": []
    },
    {
      "cell_type": "code",
      "source": [
        "#importing libraries used for encoding\n",
        "\n",
        "from sklearn.preprocessing import LabelEncoder\n",
        "from pandas.core.dtypes.common import is_numeric_dtype\n",
        "le= LabelEncoder()"
      ],
      "metadata": {
        "id": "9bPa6oPCpw2k"
      },
      "execution_count": null,
      "outputs": []
    },
    {
      "cell_type": "code",
      "source": [
        "for i in iris.columns:\n",
        "   if is_numeric_dtype(iris[i]):\n",
        "    continue\n",
        "   else:\n",
        "         iris[i] = le.fit_transform(iris[i])"
      ],
      "metadata": {
        "id": "tprgMkmrqd5c"
      },
      "execution_count": null,
      "outputs": []
    },
    {
      "cell_type": "code",
      "source": [
        "iris.info()"
      ],
      "metadata": {
        "id": "kTVjaMJorUL6"
      },
      "execution_count": null,
      "outputs": []
    },
    {
      "cell_type": "code",
      "source": [
        "sns.countplot(x='species', data=iris, palette=\"Set2\") # Changed 'b' to 'x'\n",
        "\n",
        "plt.show()"
      ],
      "metadata": {
        "id": "nryTLw28gJYl"
      },
      "execution_count": null,
      "outputs": []
    },
    {
      "cell_type": "code",
      "source": [
        "# Assuming the correct column name is 'sepal_width' based on the available information\n",
        "sns.histplot(data = iris , x = 'sepal_width', color = 'red')"
      ],
      "metadata": {
        "id": "sFNiTjo5ggBf"
      },
      "execution_count": null,
      "outputs": []
    },
    {
      "cell_type": "code",
      "source": [
        "sns.histplot(data = iris , x = 'petal_length', color = 'yellow')\n",
        "# Changed 'petal length (cm)' to 'petal_length'"
      ],
      "metadata": {
        "id": "3FCLDlHSguXn"
      },
      "execution_count": null,
      "outputs": []
    },
    {
      "cell_type": "code",
      "source": [
        "sns.histplot(data = iris , x = 'petal_width', color = 'magenta') # Changed 'petal width (cm)' to 'petal_width'"
      ],
      "metadata": {
        "id": "Oy96e2oJg5h4"
      },
      "execution_count": null,
      "outputs": []
    },
    {
      "cell_type": "code",
      "source": [
        "#created a heatmap to see the features wise correlation in the data set\n",
        "corr = iris.corr()\n",
        "sns.heatmap(corr, annot=True)"
      ],
      "metadata": {
        "id": "QvxCXcdOyQ4W"
      },
      "execution_count": null,
      "outputs": []
    },
    {
      "cell_type": "markdown",
      "source": [
        "data preparation"
      ],
      "metadata": {
        "id": "Yt5WQzzjy2ug"
      }
    },
    {
      "cell_type": "code",
      "source": [
        "from sklearn.model_selection import train_test_split"
      ],
      "metadata": {
        "id": "khfb5DjXywKc"
      },
      "execution_count": null,
      "outputs": []
    },
    {
      "cell_type": "code",
      "source": [
        "iris.columns"
      ],
      "metadata": {
        "id": "AjJCZx4S0wJe"
      },
      "execution_count": null,
      "outputs": []
    },
    {
      "cell_type": "code",
      "source": [
        "import pandas as pd # imports the pandas module\n",
        "\n",
        "pd.Index(['sepal_length', 'sepal_width', 'petal_length', 'petal_width', 'species'], dtype='object') # uses the Index class from the pandas module"
      ],
      "metadata": {
        "id": "NZPIUjT91Iv_"
      },
      "execution_count": null,
      "outputs": []
    },
    {
      "cell_type": "code",
      "source": [
        "import pandas as pd # imports the pandas module\n",
        "\n",
        "pd.Index(['sepal_length', 'sepal_width', 'petal_length', 'petal_width', 'species'], dtype='object')\n",
        " # uses the Index class from the pandas module"
      ],
      "metadata": {
        "id": "uf_fW85m1eoM"
      },
      "execution_count": null,
      "outputs": []
    },
    {
      "cell_type": "code",
      "source": [
        "import pandas as pd\n",
        "from sklearn.model_selection import train_test_split\n",
        "\n",
        "# Sample DataFrame (replace with your actual data loading)\n",
        "data = {'sepal_length': [5.1, 4.9, 4.7, 4.6, 5.0],\n",
        "        'sepal_width': [3.5, 3.0, 3.2, 3.1, 3.6],\n",
        "        'petal_length': [1.4, 1.4, 1.3, 1.5, 1.4],\n",
        "        'petal_width': [0.2, 0.2, 0.2, 0.2, 0.2],\n",
        "        'species': ['setosa', 'setosa', 'setosa', 'setosa', 'setosa']}\n",
        "df = pd.DataFrame(data)\n",
        "\n",
        "X = df.drop('species', axis=1)  # Features (all columns except 'species')\n",
        "y = df['species']  # Target variable ('species' column)\n",
        "\n",
        "X_train, X_test, y_train, y_test = train_test_split(X, y, test_size=0.3) # Split data into training and testing sets"
      ],
      "metadata": {
        "id": "7qwK3TxA1_4o"
      },
      "execution_count": null,
      "outputs": []
    },
    {
      "cell_type": "markdown",
      "source": [
        "model building"
      ],
      "metadata": {
        "id": "knL2TE_w2HWm"
      }
    },
    {
      "cell_type": "code",
      "source": [
        "from sklearn.linear_model import LogisticRegression"
      ],
      "metadata": {
        "id": "Pboba6Bd2Dle"
      },
      "execution_count": null,
      "outputs": []
    },
    {
      "cell_type": "code",
      "source": [
        "# imports necessary modules\n",
        "import pandas as pd\n",
        "from sklearn.model_selection import train_test_split\n",
        "from sklearn.linear_model import LogisticRegression\n",
        "\n",
        "# Sample DataFrame\n",
        "data = {'sepal_length': [5.1, 4.9, 4.7, 4.6, 5.0, 7.0, 6.4, 6.9, 5.5, 6.5],\n",
        "        'sepal_width': [3.5, 3.0, 3.2, 3.1, 3.6, 3.2, 3.2, 3.1, 2.3, 2.8],\n",
        "        'petal_length': [1.4, 1.4, 1.3, 1.5, 1.4, 4.7, 4.5, 4.9, 4.0, 4.6],\n",
        "        'petal_width': [0.2, 0.2, 0.2, 0.2, 0.2, 1.4, 1.5, 1.5, 1.3, 1.5],\n",
        "        'species': ['setosa', 'setosa', 'setosa', 'setosa', 'setosa', 'versicolor', 'versicolor', 'versicolor', 'versicolor', 'versicolor']}\n",
        "df = pd.DataFrame(data)\n",
        "\n",
        "# separates the features from the target variable\n",
        "X = df.drop('species', axis=1)\n",
        "y = df['species']\n",
        "\n",
        "# splits the data into training and testing sets\n",
        "X_train, X_test, y_train, y_test = train_test_split(X, y, test_size=0.3, random_state=42)\n",
        " # added a random_state for reproducibility\n",
        "\n",
        "# creates and trains the model\n",
        "model = LogisticRegression()\n",
        "model.fit(X_train, y_train)\n"
      ],
      "metadata": {
        "id": "lbF2ZDGU2x57"
      },
      "execution_count": null,
      "outputs": []
    },
    {
      "cell_type": "code",
      "source": [
        "#Evaluating the model to verify the accuracy\n",
        "\n",
        "print(\"Score for Train data\", model.score(X_train, y_train)) # Changed 'Model' to 'model'\n",
        "\n",
        "print(\"Score for Test data\", model.score(X_test, y_test)) # Changed 'Model' to 'model'"
      ],
      "metadata": {
        "id": "E9ARbUeD41zt"
      },
      "execution_count": null,
      "outputs": []
    },
    {
      "cell_type": "code",
      "source": [
        "#Importing essential libraries for Random Forest Classifier\n",
        "from sklearn.ensemble import RandomForestClassifier\n",
        "#building machine learning model and training them\n",
        "model12=RandomForestClassifier(n_estimators = 300, random_state=100)\n",
        "model12.fit(X_train,y_train)\n"
      ],
      "metadata": {
        "id": "FGWwddbH6GZh"
      },
      "execution_count": null,
      "outputs": []
    },
    {
      "cell_type": "code",
      "source": [
        "print(\"Score for Train data\", model12.score(X_train, y_train))\n",
        "print(\"Score for Test data\", model12.score(X_test, y_test))"
      ],
      "metadata": {
        "id": "CQlZx-x77MYQ"
      },
      "execution_count": null,
      "outputs": []
    },
    {
      "cell_type": "code",
      "source": [
        "# knn k-nearest neigbours\n",
        "from sklearn.neighbors import KNeighborsClassifier # imports KNeighborsClassifier from sklearn.neighbors\n",
        "\n",
        "# Building machine learning model and training them\n",
        "\n",
        "Model3 = KNeighborsClassifier()\n",
        "Model3.fit(X_train,y_train)"
      ],
      "metadata": {
        "id": "_Fk2LsgW8ncx"
      },
      "execution_count": null,
      "outputs": []
    },
    {
      "cell_type": "code",
      "source": [
        "#Importing essential libraries for Random Forest Classifier\n",
        "from sklearn.ensemble import RandomForestClassifier\n",
        "#building machine learning model and training them\n",
        "model13=RandomForestClassifier(n_estimators = 300, random_state=100)\n",
        "model13.fit(X_train,y_train)\n"
      ],
      "metadata": {
        "id": "UyTt83D-C2HJ"
      },
      "execution_count": null,
      "outputs": []
    },
    {
      "cell_type": "code",
      "source": [
        "print(\"Score for Train data\", model13.score(X_train, y_train))\n",
        "print(\"Score for Test data\", model13.score(X_test, y_test))"
      ],
      "metadata": {
        "id": "GPTEGZrYDArY"
      },
      "execution_count": null,
      "outputs": []
    },
    {
      "cell_type": "markdown",
      "source": [
        "model testing"
      ],
      "metadata": {
        "id": "7yNKw-euDw_k"
      }
    },
    {
      "cell_type": "code",
      "source": [
        "iris.head(5)"
      ],
      "metadata": {
        "id": "0Moc-0ySD0ox"
      },
      "execution_count": null,
      "outputs": []
    },
    {
      "cell_type": "code",
      "source": [
        "#for testing we create a dataframe with value chose to the any of our existing data to evaluate\n",
        "data= {'sepal_length': [5.2], 'sepal_width': [3.6], 'petal_length': [1.4], 'petal_width': [0.2]}\n",
        "trail= pd.DataFrame(data)"
      ],
      "metadata": {
        "id": "1XYomG2DEn55"
      },
      "execution_count": null,
      "outputs": []
    },
    {
      "cell_type": "code",
      "source": [
        "result= model12.predict(trail)\n",
        "print(\"result specise:\", result[0])"
      ],
      "metadata": {
        "id": "_6Qp6aNKF570"
      },
      "execution_count": null,
      "outputs": []
    }
  ]
}