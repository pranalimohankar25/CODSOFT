{
  "nbformat": 4,
  "nbformat_minor": 0,
  "metadata": {
    "colab": {
      "private_outputs": true,
      "provenance": []
    },
    "kernelspec": {
      "name": "python3",
      "display_name": "Python 3"
    },
    "language_info": {
      "name": "python"
    }
  },
  "cells": [
    {
      "cell_type": "markdown",
      "source": [
        "CODSOFT INTERNSHIP"
      ],
      "metadata": {
        "id": "bTrEJEkLa_xD"
      }
    },
    {
      "cell_type": "markdown",
      "source": [
        "TASK 1. Titanic Survival Prediction"
      ],
      "metadata": {
        "id": "5QmqGrJxbHo-"
      }
    },
    {
      "cell_type": "code",
      "execution_count": null,
      "metadata": {
        "id": "Jz3whMamPSFx"
      },
      "outputs": [],
      "source": [
        "import numpy as np\n",
        "import pandas as pd\n",
        "import matplotlib.pyplot as plt\n",
        "import seaborn as sns\n",
        "import plotly.express as px"
      ]
    },
    {
      "cell_type": "code",
      "source": [
        "from google.colab import files\n",
        "uploaded = files.upload()"
      ],
      "metadata": {
        "id": "P8ThBWg4PYcD"
      },
      "execution_count": null,
      "outputs": []
    },
    {
      "cell_type": "code",
      "source": [
        "#linking data set into collab\n",
        "import io\n",
        "titanic_df= pd.read_csv((io.BytesIO(uploaded['Titanic-Dataset.csv'])),encoding= 'unicode_escape')\n",
        "titanic_df.head(10)"
      ],
      "metadata": {
        "id": "W1M2-CJQQKNJ"
      },
      "execution_count": null,
      "outputs": []
    },
    {
      "cell_type": "code",
      "source": [
        "titanic_df.describe()"
      ],
      "metadata": {
        "id": "JmiXCC0CQtJ8"
      },
      "execution_count": null,
      "outputs": []
    },
    {
      "cell_type": "code",
      "source": [
        "titanic_df.shape"
      ],
      "metadata": {
        "id": "VXtx4G0ERA75"
      },
      "execution_count": null,
      "outputs": []
    },
    {
      "cell_type": "code",
      "source": [
        "titanic_df.info()"
      ],
      "metadata": {
        "id": "JvVYM60tRNrJ"
      },
      "execution_count": null,
      "outputs": []
    },
    {
      "cell_type": "code",
      "source": [
        "sns.heatmap(titanic_df.isnull())"
      ],
      "metadata": {
        "id": "O-ELYia7RRQE"
      },
      "execution_count": null,
      "outputs": []
    },
    {
      "cell_type": "code",
      "source": [
        "port=pd.get_dummies(titanic_df.Embarked,prefix='Embarked',dtype=int)\n",
        "port.head()"
      ],
      "metadata": {
        "id": "A-LZebhjRl7D"
      },
      "execution_count": null,
      "outputs": []
    },
    {
      "cell_type": "code",
      "source": [
        "titanic_df=titanic_df.join(port)\n"
      ],
      "metadata": {
        "id": "qG2gnBx1S6CZ"
      },
      "execution_count": null,
      "outputs": []
    },
    {
      "cell_type": "code",
      "source": [
        "titanic_df.drop(['Embarked'],axis=1,inplace=True)"
      ],
      "metadata": {
        "id": "ESZnH5o5SUdG"
      },
      "execution_count": null,
      "outputs": []
    },
    {
      "cell_type": "code",
      "source": [
        "titanic_df.head()"
      ],
      "metadata": {
        "id": "59N7VCYWTWtL"
      },
      "execution_count": null,
      "outputs": []
    },
    {
      "cell_type": "code",
      "source": [
        "titanic_df.sex=titanic_df.Sex.map({'male':0,'female':1})"
      ],
      "metadata": {
        "id": "DVPwdfQBTiOY"
      },
      "execution_count": null,
      "outputs": []
    },
    {
      "cell_type": "code",
      "source": [
        "titanic_df['Sex']"
      ],
      "metadata": {
        "id": "KLjzD6zkT1W9"
      },
      "execution_count": null,
      "outputs": []
    },
    {
      "cell_type": "code",
      "source": [
        "Y=titanic_df.Survived.copy()\n",
        "X=titanic_df.drop(['Survived'],axis=1)"
      ],
      "metadata": {
        "id": "Hf9ofb1YULkF"
      },
      "execution_count": null,
      "outputs": []
    },
    {
      "cell_type": "code",
      "source": [
        "X.drop(['Cabin','Ticket','Name','PassengerId'],axis=1,inplace=True)"
      ],
      "metadata": {
        "id": "kMpCd2dNU9sx"
      },
      "execution_count": null,
      "outputs": []
    },
    {
      "cell_type": "code",
      "source": [
        "X.isnull().sum()"
      ],
      "metadata": {
        "id": "5g6lx17JV-wl"
      },
      "execution_count": null,
      "outputs": []
    },
    {
      "cell_type": "code",
      "source": [
        "X.Age.fillna(X.Age.mean(),inplace=True)"
      ],
      "metadata": {
        "id": "B_t-2T6XWTZE"
      },
      "execution_count": null,
      "outputs": []
    },
    {
      "cell_type": "code",
      "source": [
        "X.isnull().values.any()"
      ],
      "metadata": {
        "id": "opJcDXCWWb69"
      },
      "execution_count": null,
      "outputs": []
    },
    {
      "cell_type": "code",
      "source": [
        "# imports necessary modules\n",
        "import pandas as pd\n",
        "from sklearn.model_selection import train_test_split\n",
        "from sklearn.linear_model import LogisticRegression\n",
        "X_train, X_test, Y_train, Y_test = train_test_split(X, Y, test_size=0.3, random_state=7)"
      ],
      "metadata": {
        "id": "yAGd0BqxXaoY"
      },
      "execution_count": null,
      "outputs": []
    },
    {
      "cell_type": "code",
      "source": [
        "from sklearn.linear_model import LogisticRegression\n",
        "model = LogisticRegression()"
      ],
      "metadata": {
        "id": "AOlfFyOmX3_r"
      },
      "execution_count": null,
      "outputs": []
    },
    {
      "cell_type": "code",
      "source": [
        "# Check for the actual column name in X_train\n",
        "print(X_train.columns)\n",
        "\n",
        "# Assuming the column is named 'Sex'\n",
        "X_train = pd.get_dummies(X_train, columns=['Sex'], drop_first=True)\n",
        "X_test = pd.get_dummies(X_test, columns=['Sex'], drop_first=True)"
      ],
      "metadata": {
        "id": "d9r6d-TEZXf6"
      },
      "execution_count": null,
      "outputs": []
    },
    {
      "cell_type": "code",
      "source": [
        "# imports necessary modules\n",
        "import pandas as pd\n",
        "from sklearn.model_selection import train_test_split\n",
        "from sklearn.linear_model import LogisticRegression\n",
        "\n",
        "# Assuming X and Y are your dataframes\n",
        "X_train, X_test, Y_train, Y_test = train_test_split(X, Y, test_size=0.3, random_state=7)\n",
        "\n",
        "# Initialize the model\n",
        "model = LogisticRegression()\n",
        "\n",
        "# Perform one-hot encoding before fitting the model\n",
        "X_train = pd.get_dummies(X_train, columns=['Sex'], drop_first=True)\n",
        "X_test = pd.get_dummies(X_test, columns=['Sex'], drop_first=True)\n",
        "\n",
        "# Fit the model on the encoded data\n",
        "model.fit(X_train, Y_train)\n",
        "\n",
        "# Now you can score the model\n",
        "model.score(X_train, Y_train)"
      ],
      "metadata": {
        "id": "mBDgnBcJZ3Vn"
      },
      "execution_count": null,
      "outputs": []
    },
    {
      "cell_type": "code",
      "source": [
        "Y_pred_test = model.predict(X_test)\n",
        "Y_pred_test"
      ],
      "metadata": {
        "id": "AVrSzqnRaB1k"
      },
      "execution_count": null,
      "outputs": []
    },
    {
      "cell_type": "code",
      "source": [
        "Y_test"
      ],
      "metadata": {
        "id": "UVJXjHRgaYhQ"
      },
      "execution_count": null,
      "outputs": []
    },
    {
      "cell_type": "code",
      "source": [
        "from sklearn.metrics import accuracy_score\n",
        "accuracy_score(Y_test,Y_pred_test)"
      ],
      "metadata": {
        "id": "wFf33oDHajxN"
      },
      "execution_count": null,
      "outputs": []
    }
  ]
}